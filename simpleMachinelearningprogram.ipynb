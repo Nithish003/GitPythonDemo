{
  "nbformat": 4,
  "nbformat_minor": 0,
  "metadata": {
    "colab": {
      "name": "simpleMachinelearningprogram.ipynb",
      "provenance": [],
      "collapsed_sections": [],
      "authorship_tag": "ABX9TyOMrL+FG+Z+mhlJ1wSCzBBO",
      "include_colab_link": true
    },
    "kernelspec": {
      "name": "python3",
      "display_name": "Python 3"
    }
  },
  "cells": [
    {
      "cell_type": "markdown",
      "metadata": {
        "id": "view-in-github",
        "colab_type": "text"
      },
      "source": [
        "<a href=\"https://colab.research.google.com/github/Nithish003/GitPythonDemo/blob/master/simpleMachinelearningprogram.ipynb\" target=\"_parent\"><img src=\"https://colab.research.google.com/assets/colab-badge.svg\" alt=\"Open In Colab\"/></a>"
      ]
    },
    {
      "cell_type": "code",
      "metadata": {
        "id": "4W0HQY0A3-4C",
        "colab_type": "code",
        "colab": {}
      },
      "source": [
        "#Description : Build a simple machine learning python program"
      ],
      "execution_count": 1,
      "outputs": []
    },
    {
      "cell_type": "code",
      "metadata": {
        "id": "ljlAQbf94cQh",
        "colab_type": "code",
        "colab": {}
      },
      "source": [
        "# Import the dependencies\n",
        "from sklearn.linear_model import LinearRegression\n",
        "import random"
      ],
      "execution_count": 2,
      "outputs": []
    },
    {
      "cell_type": "code",
      "metadata": {
        "id": "jacsDIVn4qHD",
        "colab_type": "code",
        "colab": {}
      },
      "source": [
        "#Create two empty lists\n",
        "feature_set = []\n",
        "target_set = []"
      ],
      "execution_count": 3,
      "outputs": []
    },
    {
      "cell_type": "code",
      "metadata": {
        "id": "xIRkB2sH406b",
        "colab_type": "code",
        "colab": {}
      },
      "source": [
        "number_of_rows = 200\n",
        "random_number_limit = 2000"
      ],
      "execution_count": 4,
      "outputs": []
    },
    {
      "cell_type": "code",
      "metadata": {
        "id": "zPqLCazp4-bA",
        "colab_type": "code",
        "colab": {}
      },
      "source": [
        "#create the dataset\n",
        "\n",
        "#Create the feature dataset\n",
        "for i in range(0, number_of_rows):\n",
        "  x = random.randint(0, random_number_limit)\n",
        "  y = random.randint(0, random_number_limit)\n",
        "  z = random.randint(0, random_number_limit)\n",
        "\n",
        "  #Create a linear function for the target data set\n",
        "  function = (10*x)+(2*y)+(3*z)\n",
        "  feature_set.append([x,y,z])\n",
        "  target_set.append(function)"
      ],
      "execution_count": 5,
      "outputs": []
    },
    {
      "cell_type": "code",
      "metadata": {
        "id": "zTGYHFLA575M",
        "colab_type": "code",
        "colab": {
          "base_uri": "https://localhost:8080/",
          "height": 34
        },
        "outputId": "3dc0ea9c-65cd-436b-a009-83f2fc1bfb11"
      },
      "source": [
        "#Create the linear regression model\n",
        "model = LinearRegression()\n",
        "model.fit(feature_set, target_set)"
      ],
      "execution_count": 7,
      "outputs": [
        {
          "output_type": "execute_result",
          "data": {
            "text/plain": [
              "LinearRegression(copy_X=True, fit_intercept=True, n_jobs=None, normalize=False)"
            ]
          },
          "metadata": {
            "tags": []
          },
          "execution_count": 7
        }
      ]
    },
    {
      "cell_type": "code",
      "metadata": {
        "id": "gLM6MykN6Hrk",
        "colab_type": "code",
        "colab": {}
      },
      "source": [
        "test_set = [[8,10,0]] \n",
        "prediction = model.predict(test_set)"
      ],
      "execution_count": 11,
      "outputs": []
    },
    {
      "cell_type": "code",
      "metadata": {
        "id": "YIqEA6Ms6frb",
        "colab_type": "code",
        "colab": {
          "base_uri": "https://localhost:8080/",
          "height": 34
        },
        "outputId": "76e07392-1872-4f6b-dbc6-bf7189887a76"
      },
      "source": [
        "print('Prediction:' +str(prediction)+ 'coefficients'+str(model.coef_))"
      ],
      "execution_count": 12,
      "outputs": [
        {
          "output_type": "stream",
          "text": [
            "Prediction:[100.]coefficients[10.  2.  3.]\n"
          ],
          "name": "stdout"
        }
      ]
    },
    {
      "cell_type": "code",
      "metadata": {
        "id": "AfhmoXd869iF",
        "colab_type": "code",
        "colab": {}
      },
      "source": [
        ""
      ],
      "execution_count": null,
      "outputs": []
    }
  ]
}
{
  "nbformat": 4,
  "nbformat_minor": 0,
  "metadata": {
    "colab": {
      "name": "ResumePercentageMatch.ipynb",
      "provenance": [],
      "collapsed_sections": [],
      "authorship_tag": "ABX9TyPuAMVjbbsl5gBa2XOn73p5",
      "include_colab_link": true
    },
    "kernelspec": {
      "name": "python3",
      "display_name": "Python 3"
    }
  },
  "cells": [
    {
      "cell_type": "markdown",
      "metadata": {
        "id": "view-in-github",
        "colab_type": "text"
      },
      "source": [
        "<a href=\"https://colab.research.google.com/github/Nithish003/GitPythonDemo/blob/master/ResumePercentageMatch.ipynb\" target=\"_parent\"><img src=\"https://colab.research.google.com/assets/colab-badge.svg\" alt=\"Open In Colab\"/></a>"
      ]
    },
    {
      "cell_type": "code",
      "metadata": {
        "id": "uPn_sZ3hTJVd",
        "colab_type": "code",
        "colab": {}
      },
      "source": [
        "# Description: Create a program how similar to the company job description:"
      ],
      "execution_count": 13,
      "outputs": []
    },
    {
      "cell_type": "code",
      "metadata": {
        "id": "PTZTtI5ETtKj",
        "colab_type": "code",
        "colab": {
          "base_uri": "https://localhost:8080/",
          "height": 54
        },
        "outputId": "b4417e99-6d2c-45c1-cb80-a80e7a9110f6"
      },
      "source": [
        "pip install docx2txt"
      ],
      "execution_count": 14,
      "outputs": [
        {
          "output_type": "stream",
          "text": [
            "Requirement already satisfied: docx2txt in /usr/local/lib/python3.6/dist-packages (0.8)\n"
          ],
          "name": "stdout"
        }
      ]
    },
    {
      "cell_type": "code",
      "metadata": {
        "id": "88ycyUcHTv3m",
        "colab_type": "code",
        "colab": {}
      },
      "source": [
        "import docx2txt"
      ],
      "execution_count": 15,
      "outputs": []
    },
    {
      "cell_type": "code",
      "metadata": {
        "id": "8ohnOc-xT5bo",
        "colab_type": "code",
        "colab": {
          "resources": {
            "http://localhost:8080/nbextensions/google.colab/files.js": {
              "data": "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",
              "ok": true,
              "headers": [
                [
                  "content-type",
                  "application/javascript"
                ]
              ],
              "status": 200,
              "status_text": ""
            }
          },
          "base_uri": "https://localhost:8080/",
          "height": 140
        },
        "outputId": "b4c762bb-42c1-4824-b8e5-13dec6273f16"
      },
      "source": [
        "from google.colab import files\n",
        "uploaded = files.upload()"
      ],
      "execution_count": 16,
      "outputs": [
        {
          "output_type": "display_data",
          "data": {
            "text/html": [
              "\n",
              "     <input type=\"file\" id=\"files-4bfb8031-f4c5-49da-972e-d53ec3828104\" name=\"files[]\" multiple disabled\n",
              "        style=\"border:none\" />\n",
              "     <output id=\"result-4bfb8031-f4c5-49da-972e-d53ec3828104\">\n",
              "      Upload widget is only available when the cell has been executed in the\n",
              "      current browser session. Please rerun this cell to enable.\n",
              "      </output>\n",
              "      <script src=\"/nbextensions/google.colab/files.js\"></script> "
            ],
            "text/plain": [
              "<IPython.core.display.HTML object>"
            ]
          },
          "metadata": {
            "tags": []
          }
        },
        {
          "output_type": "stream",
          "text": [
            "Saving Senior Software Engineer.docx to Senior Software Engineer (1).docx\n",
            "Saving MARIA LISA.docx to MARIA LISA (1).docx\n"
          ],
          "name": "stdout"
        }
      ]
    },
    {
      "cell_type": "code",
      "metadata": {
        "id": "DS4ER6SLkbPZ",
        "colab_type": "code",
        "colab": {
          "base_uri": "https://localhost:8080/",
          "height": 1000
        },
        "outputId": "d9cfb3f6-b24e-4309-95da-3228ec784702"
      },
      "source": [
        "resume =docx2txt.process(\"MARIA LISA.docx\")\n",
        "print(resume)"
      ],
      "execution_count": 17,
      "outputs": [
        {
          "output_type": "stream",
          "text": [
            "MARIA LISA\n",
            "\n",
            "Email: maria123@gmail.com\n",
            "Phone: (555)-555-5555\n",
            "\n",
            "\n",
            "\n",
            "CAREER SUMMARY\n",
            "\n",
            "Around 3 Years of experience in Analysis, Design, Development, Management and Validation of various stand-alone and client-server applications.\n",
            "\n",
            "2+ years of experience in implementing Object-Oriented Python, Hash Tables (Dictionaries) and Multi-threading.\n",
            "\n",
            "Experience in installing software using pip command for python libraries and extensive usage of the PEP8 coding convention.\n",
            "\n",
            "Good understanding on Django ORM and SQLAlchemy.\n",
            "\n",
            "Experienced in interfacing with third party API’s using REST and SOAP\n",
            "\n",
            "Worked with varieties of Relational Databases (RDBMS) like SQLite, MySQL and PostgreSQL.\n",
            "\n",
            "Experienced in writing SubQueries, Triggers, Cursors, Stored Procedures and Functions.\n",
            "\n",
            "Proficient knowledge of Web services like Google Cloud and Amazon AWS Services.\n",
            "\n",
            "Good Knowledge on Linux and Shell Scripting.\n",
            "\n",
            "Experienced in developing web-based applications using Python, PHP, XML, JSON and MVC3\n",
            "\n",
            "Well versed in design and development of presentation layer for web applications using technologies like HTML,CSS, JavaScript, JQuery, AJAX and Bootstrap.\n",
            "\n",
            "EDUCATION\n",
            "\n",
            "Course (Stream)/ Examination\n",
            "\n",
            "Institution/University/School\n",
            "\n",
            "Year of Passing\n",
            "\n",
            "Performance\n",
            "\n",
            "B. E\n",
            "\n",
            "Tagore College of Engineering and Technology – Chennai\n",
            "\n",
            "2015\n",
            "\n",
            "90%\n",
            "\n",
            "HSC\n",
            "\n",
            "Scread Higher Secondary School\n",
            "\n",
            "2009\n",
            "\n",
            "84%\n",
            "\n",
            "SSLC\n",
            "\n",
            "ST.Marry Higher Secondary School\n",
            "\n",
            "2007\n",
            "\n",
            "80%\n",
            "\n",
            "SKILLS\n",
            "\n",
            "AJAX (1 year)\n",
            "\n",
            "CSS (1 year)\n",
            "\n",
            "HTML (1 year)\n",
            "\n",
            "JAVASCRIPT (1 year)\n",
            "\n",
            "MYSQL (1 year)\n",
            "\n",
            "\n",
            "\n",
            "WORK EXPERIENCE\n",
            "\n",
            "1.) Python Developer\n",
            "\n",
            "Tata Consultancy Services – October 2015 to December 2016\n",
            "\n",
            "Responsibilities: \n",
            "\n",
            "Involved in building database model, APIs and views utilizing Python, in order to build an interactive web-based solution.\n",
            "\n",
            "Used data types like dictionaries, tuples, and object -concepts based inheritance features for making complex algorithms of networks.\n",
            "\n",
            "Designed and developed the UI of the website using HTML, XHTML, AJAX, CSS and JavaScript.\n",
            "\n",
            "Expertise in client scripting languages like JavaScript, JQuery, JSON, DOJO, bootstrap, Angular.js.\n",
            "\n",
            "Designed and managed API system deployment using fast http server and Amazon AWS architecture\n",
            "\n",
            "Worked on Python Open stack API’s.\n",
            "\n",
            "Carried out various mathematical operations for calculation purpose using python libraries.\n",
            "\n",
            "Managed large datasets using Panda data frames and MySQL.\n",
            "\n",
            "Worked with JSON based REST Web services.\n",
            "\n",
            "Performed testing using Django’s Test Module.\n",
            "\n",
            "Creating unit test/regression test framework for working/new code.\n",
            "\n",
            "Using Subversion version control tool to coordinate team-development.\n",
            "\n",
            "Environment: Python, XML, Java, MySQL, Apache, CSS, HTML, JavaScript, Shell Scripts, Linux and Windows.\n",
            "\n",
            "2.) Python Developer\n",
            "\n",
            "Techwave Consulting Inc – January 2015 to October 2015\n",
            "\n",
            "Responsibilities:\n",
            "\n",
            "Developed Views and Templates with Django view, controller and template language to create a user-friendly website interface.\n",
            "\n",
            "Configured the Django admin site, dashboard and created a custom Django dashboard for end users with custom look and feel.\n",
            "\n",
            "Used Python for XML, JSON processing, data exchange and business logic implementation.\n",
            "\n",
            "Created UI using JavaScript and HTML5. Designed and developed data management system using MongoDB.\n",
            "\n",
            "Used Python scripts to update the content in database and manipulate files.\n",
            "\n",
            "Proficient in Software Design and Development with a solid background in developing.\n",
            "\n",
            "Environment: Python, XML, MySQL, Apache, CSS, HTML, JavaScript, Shell Scripts, Linux and Windows.\n",
            "\n",
            "ADDITIONAL INFORMATION\n",
            "\n",
            "Languages Python, PHP, Java, C++, Shell scripting\n",
            "\n",
            "Python Framework Django, Pandas, Numpy, Scipy, Matplotlib, Seaborn, TensorFlow, Scikit-Learn, Pytorch.\n",
            "\n",
            "Databases MS SQL, MySQL, Oracle, PostgreSQL\n",
            "\n",
            "Web Technologies XML, CSS, HTML 5, JavaScript, JQuery, MVC 3, Bootstrap, AJAX, angular 2, PHP\n",
            "\n",
            "IDE Visual studio, PyCharm, Eclipse, MyEclipse\n",
            "\n",
            " \n",
            "\n",
            "Python Developer Resume Samples 2\n",
            "\n",
            "\n",
            "\n",
            "CAREER OBJECTIVE\n",
            "\n",
            "Having 1 year of experience as a Python Developer.\n",
            "\n",
            "Having experience in developing web applications using Python and Django\n",
            "\n",
            "Knowledge on front end designing HTML, CSS.\n",
            "\n",
            "Through knowledge of Object-Oriented Programming.\n",
            "\n",
            "Exceptional ability to work independently with a team of Python coders.\n",
            "\n",
            "Ability to learn and adapt quickly and to correctly apply new tools and technologies.\n",
            "\n",
            "Self-starter who can prioritize to meet deadlines.\n",
            "\n",
            "Capable of working alone as well as a team player with strong interpersonal skills.\n",
            "\n",
            "PROFESSIONAL EXPERIENCE\n",
            "\n",
            "Python Developer\n",
            "\n",
            "Company Name, Location – August 2017 to Present\n",
            "\n",
            "Description: \n",
            "\n",
            "Transport management system is a system used to manage Driving Licenses that are to be maintained in Transport Authority of Oregon State in U.S. This application deals with Issue, Renewal and Cancellation of Driving Licenses, Issuing, Renewal ID Cards, Customer Management, Transaction and Financial Management and Insurance Management etc.\n",
            "\n",
            "Roles& Responsibilities:\n",
            "\n",
            "Monitoring and finding the issues in the platform.\n",
            "\n",
            "Developing and improving the performance issues in the platform.\n",
            "\n",
            "Performing code coverage and standardization.\n",
            "\n",
            "Preparing user interfaces for the application.\n",
            "\n",
            "Ensuring that the applications being developed can be used by non-technical person.\n",
            "\n",
            "Getting thoroughly involved in the programming of web-based applications.\n",
            "\n",
            "Involved in writing test cases script using python.\n",
            "\n",
            "Python Developer\n",
            "\n",
            "Company Name, Location – 2016\n",
            "\n",
            "Roles& Responsibilities:\n",
            "\n",
            "Developed SQL Queries, Stored Procedures, and Triggers Using Oracle, SQL, PL/SQL.\n",
            "\n",
            "Responsible for debugging and troubleshooting the web application.\n",
            "\n",
            "Supported user groups by handling target-related software issues/service requests, identifying/fixing bugs.\n",
            "\n",
            "Involved in Agile Methodologies and SCRUM Process.\n",
            "\n",
            "Worked through the entire lifecycle of the projects including Design, Development, and Deployment, Testing and Implementation and support.\n",
            "\n",
            "EDUCATIONAL QUALIFICATIONS\n",
            "\n",
            "Course (Stream)/ Examination\n",
            "\n",
            "Institution/University/School\n",
            "\n",
            "Year of Passing\n",
            "\n",
            "Performance\n",
            "\n",
            "BCA\n",
            "\n",
            "SRM College of Engineering and Technology – Chennai\n",
            "\n",
            "2016\n",
            "\n",
            "90%\n",
            "\n",
            "HSC\n",
            "\n",
            "K.C.S Higher Secondary School\n",
            "\n",
            "2013\n",
            "\n",
            "84%\n",
            "\n",
            "SSLC\n",
            "\n",
            "D.L.S Higher Secondary School\n",
            "\n",
            "2011\n",
            "\n",
            "80%\n",
            "\n",
            "ADDITIONAL INFORMATION\n",
            "\n",
            "Technical Skills: -\n",
            "\n",
            "Operating System: Windows\n",
            "\n",
            "Languages: Python\n",
            "\n",
            "DBMS: MySQL\n",
            "\n",
            "Web Technologies: HTML, CSS.\n",
            "\n",
            "Web Framework: Django.\n",
            "\n",
            "Editors: IDLE, notepad++\n",
            "\n",
            "Methodologies Agile, Waterfall\n",
            "\n",
            "Operating Systems Window, Linux (Ubuntu, Fedora)\n",
            "\n",
            "Testing tools Unittest, pytest\n",
            "\n",
            "Messaging Queue’s RabbitMQ\n",
            "\n",
            "DECLARATION:\n",
            "\n",
            "I hereby declare that all the information given above are true to the best of my knowledge and belief.\n"
          ],
          "name": "stdout"
        }
      ]
    },
    {
      "cell_type": "code",
      "metadata": {
        "id": "kHpFo8qnmjyn",
        "colab_type": "code",
        "colab": {
          "base_uri": "https://localhost:8080/",
          "height": 944
        },
        "outputId": "8aefe628-1615-49fe-c3c8-0bcf742fc5fd"
      },
      "source": [
        "job_description = docx2txt.process(\"Senior Software Engineer.docx\")\n",
        "print(job_description)"
      ],
      "execution_count": 18,
      "outputs": [
        {
          "output_type": "stream",
          "text": [
            "Senior Software Engineer, Site Reliability Engineering\n",
            "\n",
            "Google\n",
            "\n",
            "Dublin\n",
            "\n",
            "Qualifications\n",
            "\n",
            "Minimum qualifications:\n",
            "\n",
            "Work experience in a software engineering environment.\n",
            "\n",
            "Experience programming in one or more of the following languages: C, C++, Java, Python, Go.\n",
            "\n",
            "Experience architecting, developing, and troubleshooting systems.\n",
            "\n",
            "Experience with algorithms and data structures and/or Unix/Linux systems internals (e.g., filesystems, system calls) and administration.\n",
            "\n",
            "Preferred qualifications:\n",
            "\n",
            "Bachelor's degree in Computer Science, or a related technical field involving coding (e.g. physics, mathematics, etc.).\n",
            "\n",
            "Experience in computing, distributed systems, storage, or networking.\n",
            "\n",
            "Expertise in designing, analyzing, and troubleshooting large-scale distributed systems.\n",
            "\n",
            "Systematic problem-solving approach coupled with effective communication skills and a sense of drive.\n",
            "\n",
            "Ability to debug, optimize code and automate routine tasks.\n",
            "\n",
            "About the job\n",
            "\n",
            "Site Reliability Engineering (SRE) combines software and systems engineering to build and run large-scale, massively distributed, fault-tolerant systems. SRE ensures that Google's services—both our internally critical and our externally-visible systems—have reliability, uptime appropriate to users' needs and a fast rate of improvement. Additionally, SRE’s will keep an ever-watchful eye on our systems capacity and performance. Much of our software development focuses on optimizing existing systems, building infrastructure and eliminating work through automation.\n",
            "\n",
            "\n",
            "On the SRE team, you’ll have the opportunity to manage the complex challenges of scale which are unique to Google, while using your expertise in coding, algorithms, complexity analysis and large-scale system design.\n",
            "SRE's culture of diversity, intellectual curiosity, problem solving and openness is key to its success. Our organization brings together people with a wide variety of backgrounds, experiences, and perspectives. We encourage them to collaborate, think big and take risks in a blame-free environment. We promote self-direction to work on meaningful projects, while we also strive to create an environment that provides the support and mentorship needed to learn and grow.\n",
            "\n",
            "\n",
            "To learn more: check out our books on Site Reliability Engineering, watch a recorded Hangout on Air to meet some of our SREs, or read a career profile about why a Software Engineer chose to join SRE.\n",
            "\n",
            "Behind everything our users see online is the architecture built by the Technical Infrastructure team to keep it running. From developing and maintaining our data centers to building the next generation of Google platforms, we make Google's product portfolio possible. We are proud to be our engineers' engineers and love voiding warranties by taking things apart so we can rebuild them. We keep our networks up and running, ensuring our users have the best and fastest experience possible.\n",
            "\n",
            "Responsibilities\n",
            "\n",
            "Lead designs of major software components, systems, and features to improve the availability, scalability, latency, and efficiency of Google's services.\n",
            "\n",
            "Lead sustainable incident response, blameless postmortems, and production improvements that result in direct business opportunities for Google.\n",
            "\n",
            "Provide guidance to other team members on managing end-to-end availability and performance of mission critical services, on building automation to prevent problem recurrence, and on building automated responses for non-exceptional service conditions.\n",
            "\n",
            "Mentor and train other team members on design techniques and coding standards, and to cultivate innovation and collaboration across multiple teams.\n",
            "\n",
            "Manage individual projects priorities, deadlines, and deliverables.\n"
          ],
          "name": "stdout"
        }
      ]
    },
    {
      "cell_type": "code",
      "metadata": {
        "id": "h2MRnpR2npCP",
        "colab_type": "code",
        "colab": {}
      },
      "source": [
        "text = [resume,job_description]"
      ],
      "execution_count": 19,
      "outputs": []
    },
    {
      "cell_type": "code",
      "metadata": {
        "id": "sgFnNyaSnyCV",
        "colab_type": "code",
        "colab": {}
      },
      "source": [
        "from sklearn.feature_extraction.text import CountVectorizer\n",
        "cv = CountVectorizer()\n",
        "count_matrix = cv.fit_transform(text)"
      ],
      "execution_count": 20,
      "outputs": []
    },
    {
      "cell_type": "code",
      "metadata": {
        "id": "k3TRypUHoFN8",
        "colab_type": "code",
        "colab": {
          "base_uri": "https://localhost:8080/",
          "height": 84
        },
        "outputId": "651811d6-b2d6-435b-a635-30946fcc6898"
      },
      "source": [
        "from sklearn.metrics.pairwise import cosine_similarity\n",
        "print(\"\\n similarity scores:\")\n",
        "print(cosine_similarity(count_matrix))"
      ],
      "execution_count": 21,
      "outputs": [
        {
          "output_type": "stream",
          "text": [
            "\n",
            " similarity scores:\n",
            "[[1.         0.65817554]\n",
            " [0.65817554 1.        ]]\n"
          ],
          "name": "stdout"
        }
      ]
    },
    {
      "cell_type": "code",
      "metadata": {
        "id": "QJcnBDvuoi7t",
        "colab_type": "code",
        "colab": {
          "base_uri": "https://localhost:8080/",
          "height": 34
        },
        "outputId": "0d7bf99f-dcf6-4d3e-c1ec-988dcaf3652f"
      },
      "source": [
        "# get the match percentage\n",
        "matchPercentage = cosine_similarity(count_matrix)[0][1] * 100\n",
        "matchPercentage = round(matchPercentage,2)\n",
        "print(\" Your resume matches about\" + str(matchPercentage)+\"% of the job description\")"
      ],
      "execution_count": 22,
      "outputs": [
        {
          "output_type": "stream",
          "text": [
            " Your resume matches about65.82% of the job description\n"
          ],
          "name": "stdout"
        }
      ]
    }
  ]
}